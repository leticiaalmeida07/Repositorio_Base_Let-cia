{
  "nbformat": 4,
  "nbformat_minor": 0,
  "metadata": {
    "colab": {
      "provenance": [],
      "authorship_tag": "ABX9TyMMjN/YfqrUt3oa5lQXJqID",
      "include_colab_link": true
    },
    "kernelspec": {
      "name": "python3",
      "display_name": "Python 3"
    },
    "language_info": {
      "name": "python"
    }
  },
  "cells": [
    {
      "cell_type": "markdown",
      "metadata": {
        "id": "view-in-github",
        "colab_type": "text"
      },
      "source": [
        "<a href=\"https://colab.research.google.com/github/leticiaalmeida07/Repositorio_Base_Let-cia/blob/main/exercic%C3%ADo.ipynb\" target=\"_parent\"><img src=\"https://colab.research.google.com/assets/colab-badge.svg\" alt=\"Open In Colab\"/></a>"
      ]
    },
    {
      "cell_type": "code",
      "execution_count": null,
      "metadata": {
        "colab": {
          "base_uri": "https://localhost:8080/",
          "height": 211
        },
        "id": "ming4zGOBOXN",
        "outputId": "4dcd632f-d80a-47ce-bdce-742f975fdfc8"
      },
      "outputs": [
        {
          "output_type": "error",
          "ename": "TypeError",
          "evalue": "sum() takes at least 1 positional argument (0 given)",
          "traceback": [
            "\u001b[0;31m---------------------------------------------------------------------------\u001b[0m",
            "\u001b[0;31mTypeError\u001b[0m                                 Traceback (most recent call last)",
            "\u001b[0;32m/tmp/ipython-input-1690312151.py\u001b[0m in \u001b[0;36m<cell line: 0>\u001b[0;34m()\u001b[0m\n\u001b[1;32m     32\u001b[0m \u001b[0;34m\u001b[0m\u001b[0m\n\u001b[1;32m     33\u001b[0m \u001b[0;34m\u001b[0m\u001b[0m\n\u001b[0;32m---> 34\u001b[0;31m \u001b[0mresultado\u001b[0m \u001b[0;34m=\u001b[0m \u001b[0mdf\u001b[0m\u001b[0;34m[\u001b[0m\u001b[0mdf\u001b[0m\u001b[0;34m[\u001b[0m\u001b[0;34m'escala_noturna'\u001b[0m\u001b[0;34m]\u001b[0m \u001b[0;34m==\u001b[0m \u001b[0msum\u001b[0m\u001b[0;34m(\u001b[0m\u001b[0;34m)\u001b[0m\u001b[0;34m]\u001b[0m\u001b[0;34m\u001b[0m\u001b[0;34m\u001b[0m\u001b[0m\n\u001b[0m\u001b[1;32m     35\u001b[0m \u001b[0mprint\u001b[0m\u001b[0;34m(\u001b[0m\u001b[0mresultado\u001b[0m\u001b[0;34m)\u001b[0m\u001b[0;34m\u001b[0m\u001b[0;34m\u001b[0m\u001b[0m\n\u001b[1;32m     36\u001b[0m \u001b[0;34m\u001b[0m\u001b[0m\n",
            "\u001b[0;31mTypeError\u001b[0m: sum() takes at least 1 positional argument (0 given)"
          ]
        }
      ],
      "source": [
        "import pandas as pd\n",
        "\n",
        "funcionarios = {\n",
        "    \"nome\": [\n",
        "        \"Ana Souza\", \"Bruno Lima\", \"Carla Ferreira\", \"Diego Santos\", \"Eduarda Nascimento\",\n",
        "        \"Felipe Almeida\", \"Giovana Ramos\", \"Henrique Costa\", \"Isabela Araujo\", \"João Pereira\",\n",
        "        \"Karina Oliveira\", \"Lucas Rodrigues\", \"Mariana Machado\", \"Nathan Silva\", \"Olívia Barbosa\"\n",
        "    ],\n",
        "    \"unidade\": [\n",
        "        2, 1, 3, 2, 1,\n",
        "        3, 1, 2, 3, 1,\n",
        "        2, 3, 1, 3, 2\n",
        "    ],\n",
        "    \"escala_noturna\": [\n",
        "        False, True, False, True, False,\n",
        "        True, False, True, False, True,\n",
        "        False, True, False, True, False\n",
        "    ],\n",
        "    \"vendas\": [\n",
        "        18754.32, 24321.89, 19876.45, 27543.22, 15789.66,\n",
        "        29123.10, 22345.99, 26789.40, 19456.78, 28345.55,\n",
        "        17654.12, 23876.99, 20543.70, 29654.88, 18321.44\n",
        "    ]\n",
        "\n",
        "}\n",
        "\n",
        "df = pd. DataFrame(funcionarios)\n",
        "# df ['unidade'].value_counts\n",
        "# df ['escala_noturna'].value_counts()\n",
        "# resultado = df[df['nome'] == 'Henrique Costa']\n",
        "# print(resultado)\n",
        "\n",
        "\n",
        "\n",
        "# df[df['vendas'] < 20000]\n",
        "\n",
        "\n",
        "\n",
        "# df ['nome']\n",
        "# df ['unidade']\n",
        "# df ['escala_noturna']\n",
        "# df ['vendas']\n",
        "\n",
        "# df.info()\n",
        "\n",
        "\n"
      ]
    }
  ]
}